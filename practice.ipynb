{
 "cells": [
  {
   "cell_type": "markdown",
   "id": "1515e7f3",
   "metadata": {},
   "source": [
    "https://platesmania.com/tr/gallery"
   ]
  },
  {
   "cell_type": "code",
   "execution_count": null,
   "id": "dad147bf",
   "metadata": {},
   "outputs": [],
   "source": [
    "from bs4 import BeautifulSoup\n",
    "import requests\n",
    "import json"
   ]
  },
  {
   "cell_type": "code",
   "execution_count": null,
   "id": "5489dbab",
   "metadata": {},
   "outputs": [],
   "source": [
    "headers = {'User Agent':'Mozilla/5.0 (Windows NT 10.0; Win64; x64) AppleWebKit/537.36 (KHTML, like Gecko) Chrome/42.0.2311.135 Safari/537.36 Edge/12.246'}\n",
    "source = requests.get('https://platesmania.com/tr/gallery', headers=headers)\n",
    "soup = BeautifulSoup(source.text)"
   ]
  },
  {
   "cell_type": "code",
   "execution_count": null,
   "id": "d01bf981",
   "metadata": {},
   "outputs": [],
   "source": [
    "source"
   ]
  },
  {
   "cell_type": "code",
   "execution_count": null,
   "id": "bcfc381b",
   "metadata": {},
   "outputs": [],
   "source": [
    "print(soup.prettify())"
   ]
  },
  {
   "cell_type": "code",
   "execution_count": null,
   "id": "c4fe1481",
   "metadata": {},
   "outputs": [],
   "source": [
    "soup.find_all(name='div', class_='vsc_initialized')"
   ]
  },
  {
   "cell_type": "code",
   "execution_count": null,
   "id": "dd94224e",
   "metadata": {},
   "outputs": [],
   "source": [
    "soup"
   ]
  },
  {
   "cell_type": "code",
   "execution_count": 2,
   "id": "aee09492",
   "metadata": {},
   "outputs": [],
   "source": [
    "import cv2 as cv"
   ]
  },
  {
   "cell_type": "code",
   "execution_count": 6,
   "id": "5164134c",
   "metadata": {},
   "outputs": [],
   "source": [
    "img = cv.imread('snip.jpg')"
   ]
  },
  {
   "cell_type": "code",
   "execution_count": 9,
   "id": "0b6921f6",
   "metadata": {},
   "outputs": [
    {
     "ename": "error",
     "evalue": "OpenCV(4.6.0) :-1: error: (-5:Bad argument) in function 'imshow'\n> Overload resolution failed:\n>  - Can't convert object to 'str' for 'winname'\n>  - Can't convert object to 'str' for 'winname'\n>  - Can't convert object to 'str' for 'winname'\n",
     "output_type": "error",
     "traceback": [
      "\u001b[1;31m---------------------------------------------------------------------------\u001b[0m",
      "\u001b[1;31merror\u001b[0m                                     Traceback (most recent call last)",
      "\u001b[1;32mC:\\Users\\TCLSOY~1\\AppData\\Local\\Temp/ipykernel_1532/551433617.py\u001b[0m in \u001b[0;36m<module>\u001b[1;34m\u001b[0m\n\u001b[1;32m----> 1\u001b[1;33m \u001b[0mcv\u001b[0m\u001b[1;33m.\u001b[0m\u001b[0mimshow\u001b[0m\u001b[1;33m(\u001b[0m\u001b[0mimg\u001b[0m\u001b[1;33m,\u001b[0m \u001b[1;34m'gray'\u001b[0m\u001b[1;33m)\u001b[0m\u001b[1;33m\u001b[0m\u001b[1;33m\u001b[0m\u001b[0m\n\u001b[0m",
      "\u001b[1;31merror\u001b[0m: OpenCV(4.6.0) :-1: error: (-5:Bad argument) in function 'imshow'\n> Overload resolution failed:\n>  - Can't convert object to 'str' for 'winname'\n>  - Can't convert object to 'str' for 'winname'\n>  - Can't convert object to 'str' for 'winname'\n"
     ]
    }
   ],
   "source": [
    "cv.imshow(img, 'gray')"
   ]
  },
  {
   "cell_type": "code",
   "execution_count": null,
   "id": "1864f370",
   "metadata": {},
   "outputs": [],
   "source": []
  }
 ],
 "metadata": {
  "kernelspec": {
   "display_name": "Python 3 (ipykernel)",
   "language": "python",
   "name": "python3"
  },
  "language_info": {
   "codemirror_mode": {
    "name": "ipython",
    "version": 3
   },
   "file_extension": ".py",
   "mimetype": "text/x-python",
   "name": "python",
   "nbconvert_exporter": "python",
   "pygments_lexer": "ipython3",
   "version": "3.9.2"
  }
 },
 "nbformat": 4,
 "nbformat_minor": 5
}
