{
 "cells": [
  {
   "cell_type": "markdown",
   "metadata": {},
   "source": [
    "## TODO\n",
    "* Train_test split on data \n",
    "* Import and transform data\n",
    "* Create model\n",
    "* Visualize results"
   ]
  },
  {
   "cell_type": "code",
   "execution_count": 4,
   "metadata": {},
   "outputs": [],
   "source": [
    "%%capture\n",
    "!pip install torch\n",
    "!pip install torchvision"
   ]
  },
  {
   "cell_type": "code",
   "execution_count": 28,
   "metadata": {},
   "outputs": [],
   "source": [
    "import torch\n",
    "import torchvision\n",
    "import torch.utils.data\n",
    "from torch import nn\n",
    "import torchvision.transforms as transforms\n",
    "import pandas as pd\n",
    "import numpy as np\n",
    "import matplotlib.pyplot as plt\n",
    "import tqdm\n",
    "import glob\n",
    "import random"
   ]
  },
  {
   "cell_type": "code",
   "execution_count": 38,
   "metadata": {},
   "outputs": [
    {
     "name": "stderr",
     "output_type": "stream",
     "text": [
      "100%|██████████| 1000/1000 [00:07<00:00, 139.55it/s]"
     ]
    },
    {
     "name": "stdout",
     "output_type": "stream",
     "text": [
      "Total images:  1000\n",
      "Means:  [0.59904635 0.548548   0.49601242]\n",
      "Stds:  [0.22716418 0.23907004 0.2495397 ]\n"
     ]
    },
    {
     "name": "stderr",
     "output_type": "stream",
     "text": [
      "\n"
     ]
    }
   ],
   "source": [
    "means = np.array([0, 0, 0], dtype=np.float32)\n",
    "stds = np.array([0, 0, 0], dtype=np.float32)\n",
    "total_images = 0\n",
    "sample_size = 1000\n",
    "for f in tqdm.tqdm(random.sample(glob.glob(\"data/house_data/**.jpg\", recursive = True), sample_size)):\n",
    "    img = plt.imread(f)\n",
    "    means += img.mean(axis=(0,1))\n",
    "    stds += img.std(axis=(0,1))\n",
    "    total_images += 1\n",
    "means = means / (total_images * 255.)\n",
    "stds = stds / (total_images * 255.)\n",
    "print(\"Total images: \", total_images)\n",
    "print(\"Means: \", means)\n",
    "print(\"Stds: \", stds)"
   ]
  },
  {
   "cell_type": "code",
   "execution_count": null,
   "metadata": {},
   "outputs": [],
   "source": []
  }
 ],
 "metadata": {
  "kernelspec": {
   "display_name": "Python 3",
   "language": "python",
   "name": "python3"
  },
  "language_info": {
   "codemirror_mode": {
    "name": "ipython",
    "version": 3
   },
   "file_extension": ".py",
   "mimetype": "text/x-python",
   "name": "python",
   "nbconvert_exporter": "python",
   "pygments_lexer": "ipython3",
   "version": "3.6.9"
  }
 },
 "nbformat": 4,
 "nbformat_minor": 5
}
