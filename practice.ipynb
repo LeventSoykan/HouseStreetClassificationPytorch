{
 "cells": [
  {
   "cell_type": "markdown",
   "id": "1515e7f3",
   "metadata": {},
   "source": [
    "https://platesmania.com/tr/gallery\n",
    "* https://www.kaggle.com/datasets/muratkokludataset/rice-image-dataset\n",
    "* https://www.kaggle.com/datasets/yusufemir/lemon-quality-dataset\n",
    "* https://www.kaggle.com/datasets/die9origephit/children-vs-adults-images\n",
    "* https://www.kaggle.com/datasets/mikhailma/house-rooms-streets-image-dataset"
   ]
  },
  {
   "cell_type": "code",
   "execution_count": 1,
   "id": "1863605b",
   "metadata": {},
   "outputs": [],
   "source": [
    "import pandas as pd\n",
    "import numpy as np"
   ]
  },
  {
   "cell_type": "code",
   "execution_count": null,
   "id": "1864f370",
   "metadata": {},
   "outputs": [],
   "source": []
  }
 ],
 "metadata": {
  "kernelspec": {
   "display_name": "Python 3 (ipykernel)",
   "language": "python",
   "name": "python3"
  },
  "language_info": {
   "codemirror_mode": {
    "name": "ipython",
    "version": 3
   },
   "file_extension": ".py",
   "mimetype": "text/x-python",
   "name": "python",
   "nbconvert_exporter": "python",
   "pygments_lexer": "ipython3",
   "version": "3.9.2"
  }
 },
 "nbformat": 4,
 "nbformat_minor": 5
}
