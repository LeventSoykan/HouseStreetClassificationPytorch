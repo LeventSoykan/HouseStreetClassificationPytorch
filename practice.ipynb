{
 "cells": [
  {
   "cell_type": "markdown",
   "metadata": {},
   "source": [
    "## TODO\n",
    "* Train_test split on data \n",
    "* Import and transform data\n",
    "* Create model\n",
    "* Visualize results"
   ]
  },
  {
   "cell_type": "code",
   "execution_count": 1,
   "metadata": {},
   "outputs": [],
   "source": [
    "%%capture\n",
    "!pip install torch\n",
    "!pip install torchvision"
   ]
  },
  {
   "cell_type": "code",
   "execution_count": 2,
   "metadata": {},
   "outputs": [],
   "source": [
    "import torch\n",
    "import torchvision\n",
    "import torch.utils.data\n",
    "from torch import nn\n",
    "import torchvision.transforms as transforms\n",
    "from torchvision import datasets\n",
    "from torch.utils.data.sampler import SubsetRandomSampler\n",
    "from torch.utils.data import DataLoader, Dataset\n",
    "import pandas as pd\n",
    "import numpy as np\n",
    "import matplotlib.pyplot as plt\n",
    "import tqdm\n",
    "import glob\n",
    "import random\n",
    "import os"
   ]
  },
  {
   "cell_type": "code",
   "execution_count": 3,
   "metadata": {},
   "outputs": [
    {
     "name": "stdout",
     "output_type": "stream",
     "text": [
      "house_data - 5249 images\n",
      "street_data - 19658 images\n"
     ]
    }
   ],
   "source": [
    "for folder in os.listdir('data'):\n",
    "    print(f'{folder} - {len(os.listdir(os.path.join(\"data\",folder)))} images')"
   ]
  },
  {
   "cell_type": "code",
   "execution_count": 4,
   "metadata": {},
   "outputs": [],
   "source": [
    "#Random seeds prepared for consistency among splitting & training processes\n",
    "seed_val = 1903\n",
    "random.seed(seed_val)\n",
    "np.random.seed(seed_val)\n",
    "torch.manual_seed(seed_val)\n",
    "torch.cuda.manual_seed_all(seed_val)"
   ]
  },
  {
   "cell_type": "code",
   "execution_count": 5,
   "metadata": {},
   "outputs": [
    {
     "name": "stderr",
     "output_type": "stream",
     "text": [
      "100%|██████████| 1000/1000 [00:05<00:00, 178.56it/s]"
     ]
    },
    {
     "name": "stdout",
     "output_type": "stream",
     "text": [
      "Total images:  1000\n",
      "Means:  [0.50170106 0.5009038  0.4761459 ]\n",
      "Stds:  [0.19799496 0.19974951 0.22386898]\n"
     ]
    },
    {
     "name": "stderr",
     "output_type": "stream",
     "text": [
      "\n"
     ]
    }
   ],
   "source": [
    "means = np.array([0, 0, 0], dtype=np.float32)\n",
    "stds = np.array([0, 0, 0], dtype=np.float32)\n",
    "total_images = 0\n",
    "sample_size = 1000\n",
    "for f in tqdm.tqdm(random.sample(glob.glob(\"data/**/*.jpg\", recursive = True), sample_size)):\n",
    "    img = plt.imread(f)\n",
    "    means += img.mean(axis=(0,1))\n",
    "    stds += img.std(axis=(0,1))\n",
    "    total_images += 1\n",
    "means = means / (total_images * 255.)\n",
    "stds = stds / (total_images * 255.)\n",
    "print(\"Total images: \", total_images)\n",
    "print(\"Means: \", means)\n",
    "print(\"Stds: \", stds)"
   ]
  },
  {
   "cell_type": "code",
   "execution_count": 6,
   "metadata": {},
   "outputs": [],
   "source": [
    "transform = transforms.Compose([\n",
    "    transforms.ToTensor(),\n",
    "    transforms.Normalize(means, stds)\n",
    "    ])"
   ]
  },
  {
   "cell_type": "code",
   "execution_count": 7,
   "metadata": {},
   "outputs": [],
   "source": [
    "dataset = datasets.ImageFolder('data', transform=transform)"
   ]
  },
  {
   "cell_type": "code",
   "execution_count": 8,
   "metadata": {},
   "outputs": [],
   "source": [
    "def split_dataset(dataset_size, test_size, val_size, shuffle=True, random_state=1903):\n",
    "    indices = list(range(dataset_size))\n",
    "    np.random.shuffle(indices)\n",
    "    split_test = int(np.floor(dataset_size*(1-(test_size+val_size))))\n",
    "    split_val = int(np.floor(dataset_size*(1-val_size)))\n",
    "    train_indices = indices[:split_test]\n",
    "    test_indices = indices[split_test:split_val]\n",
    "    val_indices = indices[split_val:]\n",
    "    return train_indices, test_indices, val_indices"
   ]
  },
  {
   "cell_type": "code",
   "execution_count": 9,
   "metadata": {},
   "outputs": [],
   "source": [
    "train_indices, test_indices, val_indices = split_dataset(len(dataset), test_size=0.1, val_size=0.1)"
   ]
  },
  {
   "cell_type": "code",
   "execution_count": 58,
   "metadata": {},
   "outputs": [],
   "source": [
    "batch_size = 32\n",
    "train_sampler = SubsetRandomSampler(train_indices)\n",
    "valid_sampler = SubsetRandomSampler(val_indices)\n",
    "test_sampler = SubsetRandomSampler(test_indices)\n",
    "\n",
    "train_dataloader = torch.utils.data.DataLoader(dataset, batch_size=batch_size, sampler=train_sampler, drop_last=True)\n",
    "val_dataloader = torch.utils.data.DataLoader(dataset, batch_size=batch_size, sampler=valid_sampler, drop_last=True)\n",
    "test_dataloader = torch.utils.data.DataLoader(dataset, batch_size=batch_size, sampler=test_sampler, drop_last=True)"
   ]
  },
  {
   "cell_type": "code",
   "execution_count": 59,
   "metadata": {},
   "outputs": [],
   "source": [
    "class HouseNet(nn.Module):\n",
    "    def __init__(self):\n",
    "        super(HouseNet, self).__init__()\n",
    "        self.conv1 = nn.Conv2d(in_channels=3, out_channels=32, kernel_size=7, stride=1, padding=3) #224\n",
    "        self.conv2 = nn.Conv2d(in_channels=32, out_channels=64, kernel_size=5, stride=1, padding=2) #112\n",
    "        self.conv3 = nn.Conv2d(in_channels=64, out_channels=128, kernel_size=3, stride=1, padding=1) #56\n",
    "        self.maxpool = nn.MaxPool2d(kernel_size=2, stride=2)\n",
    "        self.relu = nn.ReLU(inplace=True)\n",
    "        self.fc1 = nn.Linear(128*28*28, 1024)\n",
    "        self.fc2 = nn.Linear(1024, 256)\n",
    "        self.fc3 = nn.Linear(256, 2)\n",
    "        self.sigmoid = nn.Sigmoid()\n",
    "        \n",
    "    def forward(self, x):\n",
    "        x = self.relu(self.conv1(x))\n",
    "        x = self.maxpool(x)\n",
    "        x = self.relu(self.conv2(x))\n",
    "        x = self.maxpool(x)\n",
    "        x = self.relu(self.conv3(x))\n",
    "        x = self.maxpool(x)\n",
    "        x = x.view(x.shape[0], 128*28*28)\n",
    "        x = self.relu(self.fc1(x))\n",
    "        x = self.relu(self.fc2(x))\n",
    "        return self.sigmoid(self.fc3(x))"
   ]
  },
  {
   "cell_type": "code",
   "execution_count": 60,
   "metadata": {},
   "outputs": [],
   "source": [
    "net = HouseNet()\n",
    "criterion = nn.BCELoss()\n",
    "optimizer = torch.optim.Adam(net.parameters(), lr=3e-4)\n",
    "device = 'cuda'"
   ]
  },
  {
   "cell_type": "code",
   "execution_count": 62,
   "metadata": {},
   "outputs": [
    {
     "name": "stderr",
     "output_type": "stream",
     "text": [
      "TRAIN: 100%|██████████| 622/622 [20:12<00:00,  1.95s/it]\n",
      "VALIDATE: 100%|██████████| 77/77 [02:03<00:00,  1.61s/it]"
     ]
    },
    {
     "name": "stdout",
     "output_type": "stream",
     "text": [
      "Epoch 1:\n",
      "validation loss: 0.002, accuracy:0.985\n",
      "training loss: 0.003, accuracy:0.971\n"
     ]
    },
    {
     "name": "stderr",
     "output_type": "stream",
     "text": [
      "\n"
     ]
    },
    {
     "name": "stdout",
     "output_type": "stream",
     "text": [
      "Model saved\n"
     ]
    },
    {
     "name": "stderr",
     "output_type": "stream",
     "text": [
      "TRAIN: 100%|██████████| 622/622 [18:12<00:00,  1.76s/it]\n",
      "VALIDATE: 100%|██████████| 77/77 [02:03<00:00,  1.61s/it]"
     ]
    },
    {
     "name": "stdout",
     "output_type": "stream",
     "text": [
      "Epoch 2:\n",
      "validation loss: 0.001, accuracy:0.994\n",
      "training loss: 0.001, accuracy:0.988\n"
     ]
    },
    {
     "name": "stderr",
     "output_type": "stream",
     "text": [
      "\n"
     ]
    },
    {
     "name": "stdout",
     "output_type": "stream",
     "text": [
      "Model saved\n"
     ]
    }
   ],
   "source": [
    "net.to(device)\n",
    "min_loss = np.inf\n",
    "for epoch in range(2):\n",
    "    total_training_loss, training_accurate = 0, 0\n",
    "    total_val_loss, val_accurate = 0, 0\n",
    "    for i, data in enumerate(tqdm.tqdm(train_dataloader, total=int(len(train_dataloader)), desc='TRAIN')):\n",
    "        net.train()\n",
    "        inputs, labels = data[0].to(device), data[1].to(device)\n",
    "        optimizer.zero_grad()\n",
    "        \n",
    "        outputs = net(inputs)\n",
    "        accurate = ((outputs[:,0]>=0.5)==labels).float().cpu().numpy().sum()\n",
    "        loss = criterion(outputs[:,0].float(), labels.float())\n",
    "        loss.backward()\n",
    "        optimizer.step()\n",
    "        \n",
    "        training_accurate += accurate\n",
    "        total_training_loss += loss.detach().cpu().numpy()\n",
    "        avg_training_loss = total_training_loss/((i+1)*32)\n",
    "        avg_training_accuracy = training_accurate/((i+1)*32)\n",
    "        \n",
    "    for i, data in enumerate(tqdm.tqdm(val_dataloader, total=int(len(val_dataloader)), desc='VALIDATE')):\n",
    "        net.eval()\n",
    "        inputs, labels = data[0].to(device), data[1].to(device)\n",
    "      \n",
    "        outputs = net(inputs)\n",
    "        accurate = ((outputs[:,0]>=0.5)==labels).float().cpu().numpy().sum()\n",
    "        loss = criterion(outputs[:,0].float(), labels.float())\n",
    "        val_accurate += accurate\n",
    "        total_val_loss += loss.detach().cpu().numpy()\n",
    "        avg_val_loss = total_val_loss/((i+1)*32)\n",
    "        avg_val_accuracy = val_accurate/((i+1)*32)\n",
    "    print(f'Epoch {epoch+1}:\\nvalidation loss: {avg_val_loss:.3f}, accuracy:{avg_val_accuracy:.3f}', flush=True)\n",
    "    print(f'training loss: {avg_training_loss:.3f}, accuracy:{avg_training_accuracy:.3f}', flush=True)\n",
    "    if avg_val_loss < min_loss:\n",
    "        torch.save(net.state_dict(), 'model/classifier.pt')\n",
    "        min_loss = avg_val_loss\n",
    "        print('Model saved', flush=True)"
   ]
  },
  {
   "cell_type": "code",
   "execution_count": null,
   "metadata": {},
   "outputs": [],
   "source": []
  },
  {
   "cell_type": "code",
   "execution_count": null,
   "metadata": {},
   "outputs": [],
   "source": []
  },
  {
   "cell_type": "code",
   "execution_count": null,
   "metadata": {},
   "outputs": [],
   "source": []
  },
  {
   "cell_type": "code",
   "execution_count": null,
   "metadata": {},
   "outputs": [],
   "source": []
  }
 ],
 "metadata": {
  "kernelspec": {
   "display_name": "Python 3",
   "language": "python",
   "name": "python3"
  },
  "language_info": {
   "codemirror_mode": {
    "name": "ipython",
    "version": 3
   },
   "file_extension": ".py",
   "mimetype": "text/x-python",
   "name": "python",
   "nbconvert_exporter": "python",
   "pygments_lexer": "ipython3",
   "version": "3.6.9"
  }
 },
 "nbformat": 4,
 "nbformat_minor": 5
}
